{
  "cells": [
    {
      "cell_type": "markdown",
      "id": "07289bb0",
      "metadata": {
        "id": "07289bb0"
      },
      "source": [
        "# Trabajo integrador - Parte 1\n",
        "## Python y Numpy\n",
        "\n",
        "**Nombre**:"
      ]
    },
    {
      "cell_type": "code",
      "execution_count": null,
      "id": "aaf94e0a",
      "metadata": {
        "id": "aaf94e0a"
      },
      "outputs": [],
      "source": [
        "import numpy as np\n",
        "import pandas as pd\n",
        "from tabulate import tabulate\n"
      ]
    },
    {
      "cell_type": "markdown",
      "id": "0ffe9554",
      "metadata": {
        "id": "0ffe9554"
      },
      "source": [
        "## Ejercicio 1\n",
        "\n",
        "Dada una matriz en formato *numpy array*, donde cada fila de la matriz representa un vector matemático, se requiere computar las normas $l_0$, $l_1$, $l_2$, $l_{\\infty}$, según la siguientes definiciones:\n",
        "\n",
        "\\begin{equation}\n",
        "    ||\\mathbf{x}||^{p} = \\bigg(\\sum_{j=1}^{n}{|x_i|^p}\\bigg)^{\\frac{1}{p}}\n",
        "\\end{equation}\n",
        "\n",
        "con los casos especiales para $p=0$ y $p=\\infty$ siendo:\n",
        "\n",
        "\\begin{equation}\n",
        "    \\begin{array}{rcl}\n",
        "        ||\\mathbf{x}||_0 & = & \\bigg(\\sum_{j=1 \\wedge x_j != 0}{|x_i|}\\bigg)\\\\\n",
        "        ||\\mathbf{x}||_{\\infty} & = & \\max_{i}{|x_i|}\\\\\n",
        "    \\end{array}\n",
        "\\end{equation}"
      ]
    },
    {
      "cell_type": "code",
      "execution_count": null,
      "id": "0bdb0ee3",
      "metadata": {
        "colab": {
          "base_uri": "https://localhost:8080/"
        },
        "id": "0bdb0ee3",
        "outputId": "d9b177e4-9115-40c2-fcca-56f45ed758fc"
      },
      "outputs": [
        {
          "output_type": "stream",
          "name": "stdout",
          "text": [
            "Norma l0: [2 4 4]\n",
            "Norma l1: [12 13  4]\n",
            "Norma l2: [10.19803903  7.          2.        ]\n",
            "Norma linf: [10  5  1]\n"
          ]
        }
      ],
      "source": [
        "\n",
        "def calc_norms(arr):\n",
        "    l0_norm = np.sum(arr != 0, axis=1)\n",
        "    l1_norm = np.sum(np.abs(arr), axis=1)\n",
        "    l2_norm = np.linalg.norm(arr, axis=1)\n",
        "    linf_norm = np.max(np.abs(arr), axis=1)\n",
        "\n",
        "    return l0_norm, l1_norm, l2_norm, linf_norm\n",
        "\n",
        "arr_ejemplo = np.array([\n",
        "    [0, 2, 0, -10],\n",
        "    [2, -2, 5, -4],\n",
        "    [1, -1, 1, 1]\n",
        "])\n",
        "\n",
        "l0, l1, l2, linf = calc_norms(arr_ejemplo)\n",
        "\n",
        "print(\"Norma l0:\", l0)\n",
        "print(\"Norma l1:\", l1)\n",
        "print(\"Norma l2:\", l2)\n",
        "print(\"Norma linf:\", linf)"
      ]
    },
    {
      "cell_type": "markdown",
      "id": "dd66d862",
      "metadata": {
        "id": "dd66d862"
      },
      "source": [
        "## Ejercicio 2\n",
        "\n",
        "En clasificación contamos con dos arreglos, la “verdad” y la “predicción”. Cada elemento de los arreglos pueden tomar dos valores, “True” (representado por 1) y “False” (representado por 0). Entonces podemos definir 4 variables:\n",
        "\n",
        "* True Positive (TP): El valor verdadero es 1 y el valor predicho es 1\n",
        "* True Negative (TN): El valor verdadero es 0 y el valor predicho es 0\n",
        "* False Positive (FP): El valor verdadero es 0 y el valor predicho es 1\n",
        "* False Negative (FN): El valor verdadero es 1 y el valor predicho es 0\n",
        "\n",
        "A partir de esto definimos:\n",
        "\n",
        "* Precision = TP / (TP + FP)\n",
        "* Recall = TP / (TP + FN)\n",
        "* Accuracy = (TP + TN) / (TP + TN + FP + FN)\n",
        "\n",
        "Calcular las 3 métricas con Numpy y operaciones vectorizadas."
      ]
    },
    {
      "cell_type": "code",
      "execution_count": null,
      "id": "794dcd58",
      "metadata": {
        "colab": {
          "base_uri": "https://localhost:8080/"
        },
        "id": "794dcd58",
        "outputId": "13d37e29-5688-4ef0-eadc-fe63f0e8f549"
      },
      "outputs": [
        {
          "output_type": "stream",
          "name": "stdout",
          "text": [
            "El total de datos del array truth es: 10\n",
            "El total de datos del array prediction es: 10\n",
            "La metrica Precision es: 0.50\n",
            "La metrica Recall es: 0.50\n",
            "La metrica Accuracy es: 0.40\n"
          ]
        }
      ],
      "source": [
        "truth = np.array([1,1,0,1,1,1,0,0,0,1])\n",
        "prediction = np.array([1,1,1,1,0,0,1,1,0,0])\n",
        "\n",
        "def calc_pra(true, pred):\n",
        "\n",
        "    # Calculamos TP, TN, FP, FN\n",
        "    TP = np.sum((true == 1) & (pred == 1))\n",
        "    TN = np.sum((true == 0) & (pred == 0))\n",
        "    FP = np.sum((true == 0) & (pred == 1))\n",
        "    FN = np.sum((true == 1) & (pred == 0))\n",
        "\n",
        "    # Calculamos Precision, Recall y Accuracy\n",
        "    precision = TP / (TP + FP) if (TP + FP) != 0 else 0\n",
        "    recall = TP / (TP + FN) if (TP + FN) != 0 else 0\n",
        "    accuracy = (TP + TN) / (TP + TN + FP + FN)\n",
        "\n",
        "    return precision, recall, accuracy\n",
        "\n",
        "\n",
        "precision, recall, accuracy = calc_pra(truth, prediction)\n",
        "\n",
        "print(f\"El total de datos del array truth es: {truth.size}\")\n",
        "print(f\"El total de datos del array prediction es: {prediction.size}\")\n",
        "print(f\"La metrica Precision es: {precision:.2f}\")\n",
        "print(f\"La metrica Recall es: {recall:.2f}\")\n",
        "print(f\"La metrica Accuracy es: {accuracy:.2f}\")\n"
      ]
    },
    {
      "cell_type": "markdown",
      "id": "d0ac6f6f",
      "metadata": {
        "id": "d0ac6f6f"
      },
      "source": [
        "## Ejercicio 3\n",
        "\n",
        "Crear una función que separe los datos en train-validation-test. Debe recibir de parametros:\n",
        "\n",
        "- X: Array o Dataframe que contiene los datos de entrada del sistema.\n",
        "- y: Array o Dataframe que contiene la(s) variable(s) target del problema.\n",
        "- train_percentage: _float_ el porcentaje de training.\n",
        "- test_percentage: _float_ el porcentaje de testing.\n",
        "- val_percentage: _float_ el porcentaje de validación.\n",
        "- shuffle: _bool_ determina si el split debe hacerse de manera random o no.\n",
        "\n",
        "Hints:\n",
        "\n",
        "* Usar Indexing y slicing\n",
        "* Usar np.random.[...]"
      ]
    },
    {
      "cell_type": "code",
      "execution_count": null,
      "id": "ca85fc66",
      "metadata": {
        "id": "ca85fc66"
      },
      "outputs": [],
      "source": [
        "def split(X_input,\n",
        "          Y_input,\n",
        "          train_size=0.7,\n",
        "          val_size=0.15,\n",
        "          test_size=0.15,\n",
        "          random_state=42,\n",
        "          shuffle=True):\n",
        "\n",
        "    assert  train_size+val_size+test_size==1, \"Sumatoria de % splits debe ser = 1\"\n",
        "\n",
        "    if shuffle:\n",
        "        indx = np.random.RandomState(seed=random_state).permutation(len(X))\n",
        "    else:\n",
        "        indx = np.arange(len(X))\n",
        "\n",
        "    train_set = int(train_size * len(X))\n",
        "    val_set = train_set + int(val_size * len(X))\n",
        "\n",
        "    train_indx = indx[:train_set]\n",
        "    val_indx = indx[train_set:val_set]\n",
        "    test_indx = indx[val_set:]\n",
        "\n",
        "    if isinstance(X_input, type(np.array(0))):\n",
        "        X_input = pd.DataFrame(X_input).T\n",
        "    if isinstance(Y_input, type(np.array(0))):\n",
        "        Y_input = pd.DataFrame(Y_input)\n",
        "\n",
        "\n",
        "    X_train = X_input.iloc[train_indx]\n",
        "    y_train = Y_input.iloc[train_indx]\n",
        "\n",
        "    X_val = X_input.iloc[val_indx]\n",
        "    y_val = Y_input.iloc[val_indx]\n",
        "\n",
        "    X_test = X_input.iloc[test_indx]\n",
        "    y_test = Y_input.iloc[test_indx]\n",
        "\n",
        "    return X_train, y_train, X_val, y_val, X_test, y_test\n"
      ]
    },
    {
      "cell_type": "code",
      "source": [
        "# Ejemplo de uso:\n",
        "\"\"\"\n",
        "X, y son dataframes\n",
        "X2, y2 son arrays\n",
        "\"\"\"\n",
        "X = pd.DataFrame({\n",
        "    'feature1': [0,1, 2, 3, 4, 5, 6, 7, 8, 9, 10,11, 12, 13, 14, 15, 16, 17, 18, 19],\n",
        "    'feature2': [20,21, 22, 23, 24, 25, 26, 27, 28, 29, 30,31, 32, 33, 34, 35, 36, 37, 38, 39]\n",
        "})\n",
        "X2 = np.array([[0,1, 2, 3, 4, 5, 6, 7, 8, 9, 10,11, 12, 13, 14, 15, 16, 17, 18, 19],[20,21, 22, 23, 24, 25, 26, 27, 28, 29, 30,31, 32, 33, 34, 35, 36, 37, 38, 39]])\n",
        "\n",
        "y =  pd.DataFrame({'class':[0,1, 0, 1, 0, 1, 0, 1, 0, 1, 0,1, 0, 1, 0, 1, 0, 1, 0, 1]}) #par = 0 / impar = 1\n",
        "y2 =  np.array([0,1, 0, 1, 0, 1, 0, 1, 0, 1, 0,1, 0, 1, 0, 1, 0, 1, 0, 1]) #par = 0 / impar = 1\n",
        "\n",
        "X_train, y_train, X_val, y_val, X_test, y_test = split(X, y2)\n"
      ],
      "metadata": {
        "id": "2uBCTB3D5RR3"
      },
      "id": "2uBCTB3D5RR3",
      "execution_count": null,
      "outputs": []
    },
    {
      "cell_type": "code",
      "source": [
        "print(\"Training set:\")\n",
        "print(tabulate(pd.concat([X_train,y_train], axis=1), headers=(\"indx\",\"feature1\",\"feature2\",\"class\"), tablefmt='pretty',showindex=True))\n",
        "\n",
        "print(\"\\nValidation set:\")\n",
        "print(tabulate(pd.concat([X_train,y_train], axis=1), headers=(\"indx\",\"feature1\",\"feature2\",\"class\"), tablefmt='pretty',showindex=True))\n",
        "\n",
        "print(\"\\nTesting set:\")\n",
        "print(tabulate(pd.concat([X_train,y_train], axis=1), headers=(\"indx\",\"feature1\",\"feature2\",\"class\"), tablefmt='pretty',showindex=True))"
      ],
      "metadata": {
        "colab": {
          "base_uri": "https://localhost:8080/"
        },
        "id": "0kh4ad_B8gY3",
        "outputId": "701d3599-ddd8-445d-9ab2-50b61da5c6f2"
      },
      "id": "0kh4ad_B8gY3",
      "execution_count": null,
      "outputs": [
        {
          "output_type": "stream",
          "name": "stdout",
          "text": [
            "Training set:\n",
            "+------+----------+----------+-------+\n",
            "| indx | feature1 | feature2 | class |\n",
            "+------+----------+----------+-------+\n",
            "|  0   |    0     |    20    |   0   |\n",
            "|  17  |    17    |    37    |   1   |\n",
            "|  15  |    15    |    35    |   1   |\n",
            "|  1   |    1     |    21    |   1   |\n",
            "|  8   |    8     |    28    |   0   |\n",
            "|  5   |    5     |    25    |   1   |\n",
            "|  11  |    11    |    31    |   1   |\n",
            "|  3   |    3     |    23    |   1   |\n",
            "|  18  |    18    |    38    |   0   |\n",
            "|  16  |    16    |    36    |   0   |\n",
            "|  13  |    13    |    33    |   1   |\n",
            "|  2   |    2     |    22    |   0   |\n",
            "|  9   |    9     |    29    |   1   |\n",
            "|  19  |    19    |    39    |   1   |\n",
            "+------+----------+----------+-------+\n",
            "\n",
            "Validation set:\n",
            "+------+----------+----------+-------+\n",
            "| indx | feature1 | feature2 | class |\n",
            "+------+----------+----------+-------+\n",
            "|  0   |    0     |    20    |   0   |\n",
            "|  17  |    17    |    37    |   1   |\n",
            "|  15  |    15    |    35    |   1   |\n",
            "|  1   |    1     |    21    |   1   |\n",
            "|  8   |    8     |    28    |   0   |\n",
            "|  5   |    5     |    25    |   1   |\n",
            "|  11  |    11    |    31    |   1   |\n",
            "|  3   |    3     |    23    |   1   |\n",
            "|  18  |    18    |    38    |   0   |\n",
            "|  16  |    16    |    36    |   0   |\n",
            "|  13  |    13    |    33    |   1   |\n",
            "|  2   |    2     |    22    |   0   |\n",
            "|  9   |    9     |    29    |   1   |\n",
            "|  19  |    19    |    39    |   1   |\n",
            "+------+----------+----------+-------+\n",
            "\n",
            "Testing set:\n",
            "+------+----------+----------+-------+\n",
            "| indx | feature1 | feature2 | class |\n",
            "+------+----------+----------+-------+\n",
            "|  0   |    0     |    20    |   0   |\n",
            "|  17  |    17    |    37    |   1   |\n",
            "|  15  |    15    |    35    |   1   |\n",
            "|  1   |    1     |    21    |   1   |\n",
            "|  8   |    8     |    28    |   0   |\n",
            "|  5   |    5     |    25    |   1   |\n",
            "|  11  |    11    |    31    |   1   |\n",
            "|  3   |    3     |    23    |   1   |\n",
            "|  18  |    18    |    38    |   0   |\n",
            "|  16  |    16    |    36    |   0   |\n",
            "|  13  |    13    |    33    |   1   |\n",
            "|  2   |    2     |    22    |   0   |\n",
            "|  9   |    9     |    29    |   1   |\n",
            "|  19  |    19    |    39    |   1   |\n",
            "+------+----------+----------+-------+\n"
          ]
        }
      ]
    }
  ],
  "metadata": {
    "colab": {
      "provenance": []
    },
    "kernelspec": {
      "display_name": "Python 3.10.7 64-bit",
      "language": "python",
      "name": "python3"
    },
    "language_info": {
      "codemirror_mode": {
        "name": "ipython",
        "version": 3
      },
      "file_extension": ".py",
      "mimetype": "text/x-python",
      "name": "python",
      "nbconvert_exporter": "python",
      "pygments_lexer": "ipython3",
      "version": "3.9.16"
    },
    "vscode": {
      "interpreter": {
        "hash": "b5c22da4a52024410f64f9c5a5e2b4ffeeb944a5ed00e8825a42174cdab30315"
      }
    }
  },
  "nbformat": 4,
  "nbformat_minor": 5
}